{
 "cells": [
  {
   "cell_type": "code",
   "execution_count": 27,
   "metadata": {
    "id": "GlHFHCItsK8b"
   },
   "outputs": [],
   "source": [
    "import os\n",
    "import torch\n",
    "import torch.nn as nn\n",
    "import torch.optim as optim\n",
    "import numpy as np\n",
    "import pandas as pd\n",
    "from PIL import Image\n",
    "from sklearn.metrics import roc_auc_score, accuracy_score\n",
    "from torch.utils.data import TensorDataset, DataLoader, random_split\n",
    "from torchvision import models, transforms\n"
   ]
  },
  {
   "cell_type": "code",
   "execution_count": 29,
   "metadata": {
    "colab": {
     "base_uri": "https://localhost:8080/"
    },
    "id": "k_ggit_ysica",
    "outputId": "9017f882-548f-4baf-a167-f39645015431"
   },
   "outputs": [],
   "source": [
    "# prompt: get current working dir and I will need to download these file to rico dir at my google drive RICO folder\n",
    "# curl -O https://storage.googleapis.com/crowdstf-rico-uiuc-4540/rico_dataset_v0.1/ui_details.csv\n",
    "# curl -O https://storage.googleapis.com/crowdstf-rico-uiuc-4540/rico_dataset_v0.1/ui_layout_vectors.zip\n",
    "# curl -O https://storage.googleapis.com/crowdstf-rico-uiuc-4540/rico_dataset_v0.1/traces.tar.gz\n",
    "\n",
    "import os\n",
    "\n",
    "rico_dir = '/Users/wenpeishao/Downloads/CHTC/rico/data'  # Update this path if needed\n",
    "\n",
    "if not os.path.exists(rico_dir):\n",
    "  os.makedirs(rico_dir)\n",
    "\n",
    "os.chdir(rico_dir)\n"
   ]
  },
  {
   "cell_type": "code",
   "execution_count": null,
   "metadata": {
    "colab": {
     "base_uri": "https://localhost:8080/"
    },
    "id": "GdXzSHOqw_PZ",
    "outputId": "9a8bd896-486b-4b23-ca19-cf53d08e4d04"
   },
   "outputs": [],
   "source": [
    "# Unzip and untar the dataset files into the local working directory\n",
    "!echo \"Extracting dataset files...\"\n",
    "os.chdir('/Users/wenpeishao/Downloads/CHTC/rico/data')\n",
    "!mkdir -p combined/\n",
    "!tar -xzf unique_uis.tar.gz -C combined/\n",
    "!tar -xzf traces.tar.gz -C combined/\n",
    "!unzip -o ui_layout_vectors.zip -d combined/\n",
    "\n",
    "# Remove zip files to free up space\n",
    "!echo \"Removing compressed files to free up space...\"\n",
    "!rm -f unique_uis.tar.gz traces.tar.gz ui_layout_vectors.zip\n",
    "\n",
    "# Verify the extracted contents\n",
    "!echo \"Listing contents of the combined directory...\"\n",
    "!ls -la combined/"
   ]
  },
  {
   "cell_type": "code",
   "execution_count": 35,
   "metadata": {
    "id": "q70batPVsZH7"
   },
   "outputs": [
    {
     "name": "stdout",
     "output_type": "stream",
     "text": [
      "/Users/wenpeishao/Downloads/CHTC/rico/data\n"
     ]
    }
   ],
   "source": [
    "# Define paths based on the bash script setup\n",
    "ui_details_path = './ui_details_updated.csv'  # CSV file containing UI details and labels\n",
    "images_dir = './combined/combined/'   # Directory containing the UI images\n",
    "\n"
   ]
  },
  {
   "cell_type": "code",
   "execution_count": 32,
   "metadata": {
    "colab": {
     "base_uri": "https://localhost:8080/"
    },
    "id": "0b-ykJMcu0tL",
    "outputId": "bffd09bb-9f09-45f6-a195-02552fef2584",
    "scrolled": true
   },
   "outputs": [
    {
     "name": "stdout",
     "output_type": "stream",
     "text": [
      "Data loaded. Number of UI samples: 66261\n"
     ]
    }
   ],
   "source": [
    "# Load the UI details\n",
    "ui_details_df = pd.read_csv(ui_details_path)\n",
    "print(f\"Data loaded. Number of UI samples: {len(ui_details_df)}\")\n"
   ]
  },
  {
   "cell_type": "code",
   "execution_count": 33,
   "metadata": {
    "id": "ca-1f_Zgu3gG"
   },
   "outputs": [],
   "source": [
    "# Define the image processing transformations\n",
    "transform = transforms.Compose([\n",
    "    transforms.Resize((224, 224)),  # Resize to the size expected by your model\n",
    "    transforms.ToTensor(),  # Convert the image to a PyTorch tensor\n",
    "    transforms.Normalize([0.485, 0.456, 0.406], [0.229, 0.224, 0.225])  # Normalization for pretrained models\n",
    "])\n"
   ]
  },
  {
   "cell_type": "code",
   "execution_count": 36,
   "metadata": {
    "colab": {
     "base_uri": "https://localhost:8080/"
    },
    "id": "dAxU20uPu5CA",
    "outputId": "dbb3d1ad-5e2d-4014-b935-e99706dce323"
   },
   "outputs": [
    {
     "name": "stdout",
     "output_type": "stream",
     "text": [
      "Loading and processing images...\n"
     ]
    }
   ],
   "source": [
    "# Load and preprocess images and labels\n",
    "print(\"Loading and processing images...\")\n",
    "features = []\n",
    "labels = []"
   ]
  },
  {
   "cell_type": "code",
   "execution_count": 37,
   "metadata": {
    "colab": {
     "base_uri": "https://localhost:8080/"
    },
    "id": "bWEhOuUJu7X0",
    "outputId": "104f0fca-6ae4-47a9-c78f-acfc64d402a2"
   },
   "outputs": [
    {
     "name": "stdout",
     "output_type": "stream",
     "text": [
      "Loaded 66261 images successfully.\n"
     ]
    }
   ],
   "source": [
    "for index, row in ui_details_df.iterrows():\n",
    "    ui_number = row['UI Number']\n",
    "    is_social = row['Is_Social']\n",
    "    img_path = os.path.join(images_dir, f\"{ui_number}.jpg\")\n",
    "\n",
    "    if os.path.exists(img_path):\n",
    "        image = Image.open(img_path).convert(\"RGB\")  # Convert to RGB\n",
    "        image_tensor = transform(image)\n",
    "        features.append(image_tensor)\n",
    "        labels.append(torch.tensor(is_social, dtype=torch.float32))\n",
    "    else:\n",
    "        print(f\"Image {ui_number}.jpg not found.\")\n",
    "\n",
    "print(f\"Loaded {len(features)} images successfully.\")\n"
   ]
  },
  {
   "cell_type": "code",
   "execution_count": 38,
   "metadata": {
    "id": "q6IfFgVau9Xn"
   },
   "outputs": [],
   "source": [
    "\n",
    "# Create feature and label tensors\n",
    "features_tensor = torch.stack(features) if features else torch.Tensor()\n",
    "labels_tensor = torch.stack(labels) if labels else torch.Tensor()\n"
   ]
  },
  {
   "cell_type": "code",
   "execution_count": 39,
   "metadata": {
    "id": "XBrKs7OUu-km"
   },
   "outputs": [],
   "source": [
    "# Create a dataset and dataloaders\n",
    "dataset = TensorDataset(features_tensor, labels_tensor)\n",
    "train_size = int(0.8 * len(dataset))\n",
    "val_size = len(dataset) - train_size\n",
    "train_ds, val_ds = random_split(dataset, [train_size, val_size])\n",
    "\n",
    "train_loader = DataLoader(train_ds, batch_size=64, shuffle=True)\n",
    "val_loader = DataLoader(val_ds, batch_size=64, shuffle=False)\n"
   ]
  },
  {
   "cell_type": "code",
   "execution_count": 40,
   "metadata": {
    "id": "RDFSsfP6vAJu"
   },
   "outputs": [
    {
     "name": "stdout",
     "output_type": "stream",
     "text": [
      "Loading the ResNet50 model...\n"
     ]
    },
    {
     "name": "stderr",
     "output_type": "stream",
     "text": [
      "/Users/wenpeishao/anaconda3/lib/python3.11/site-packages/torchvision/models/_utils.py:208: UserWarning: The parameter 'pretrained' is deprecated since 0.13 and may be removed in the future, please use 'weights' instead.\n",
      "  warnings.warn(\n",
      "/Users/wenpeishao/anaconda3/lib/python3.11/site-packages/torchvision/models/_utils.py:223: UserWarning: Arguments other than a weight enum or `None` for 'weights' are deprecated since 0.13 and may be removed in the future. The current behavior is equivalent to passing `weights=ResNet50_Weights.IMAGENET1K_V1`. You can also use `weights=ResNet50_Weights.DEFAULT` to get the most up-to-date weights.\n",
      "  warnings.warn(msg)\n",
      "Downloading: \"https://download.pytorch.org/models/resnet50-0676ba61.pth\" to /Users/wenpeishao/.cache/torch/hub/checkpoints/resnet50-0676ba61.pth\n",
      "100%|██████████████████████████████████████| 97.8M/97.8M [00:03<00:00, 29.3MB/s]\n"
     ]
    }
   ],
   "source": [
    "# Define the model (Pretrained ResNet50)\n",
    "print(\"Loading the ResNet50 model...\")\n",
    "model = models.resnet50(pretrained=True)\n"
   ]
  },
  {
   "cell_type": "code",
   "execution_count": 41,
   "metadata": {
    "id": "0OgrRrd0vA9b"
   },
   "outputs": [],
   "source": [
    "# Modify the classifier for binary classification\n",
    "num_ftrs = model.fc.in_features\n",
    "model.fc = nn.Sequential(\n",
    "    nn.Linear(num_ftrs, 1),\n",
    "    nn.Sigmoid()\n",
    ")"
   ]
  },
  {
   "cell_type": "code",
   "execution_count": 42,
   "metadata": {
    "id": "0RQ0z4FQvCG0"
   },
   "outputs": [],
   "source": [
    "# Move the model to the GPU\n",
    "device = torch.device(\"cuda:0\" if torch.cuda.is_available() else \"cpu\")\n",
    "model = model.to(device)\n",
    "model = nn.DataParallel(model, device_ids=[0, 1, 2, 3])\n"
   ]
  },
  {
   "cell_type": "code",
   "execution_count": 43,
   "metadata": {
    "id": "GeD8PaH9vDFx"
   },
   "outputs": [],
   "source": [
    "# Define loss and optimizer\n",
    "criterion = nn.BCELoss()\n",
    "optimizer = optim.Adam(model.parameters(), lr=1e-4)\n",
    "\n",
    "\n"
   ]
  },
  {
   "cell_type": "code",
   "execution_count": 44,
   "metadata": {
    "id": "l5jMqSpovEya"
   },
   "outputs": [
    {
     "name": "stdout",
     "output_type": "stream",
     "text": [
      "Starting training...\n"
     ]
    }
   ],
   "source": [
    "# Training and evaluation loop\n",
    "print(\"Starting training...\")\n",
    "num_epochs = 10\n",
    "best_auc = 0.0\n",
    "best_model_state = None\n"
   ]
  },
  {
   "cell_type": "code",
   "execution_count": null,
   "metadata": {
    "id": "Vse3EElXvIJb"
   },
   "outputs": [],
   "source": [
    "for epoch in range(num_epochs):\n",
    "    # Training phase\n",
    "    model.train()\n",
    "    running_loss = 0.0\n",
    "    for batch in train_loader:\n",
    "        data, target = batch\n",
    "        data = data.to(device)\n",
    "        target = target.to(device).float().view(-1)  # Ensure target is a 1D float tensor\n",
    "\n",
    "        optimizer.zero_grad()\n",
    "        output = model(data)\n",
    "        loss = criterion(output.view(-1), target)\n",
    "        loss.backward()\n",
    "        optimizer.step()\n",
    "\n",
    "        running_loss += loss.item()\n",
    "\n",
    "    print(f\"Epoch {epoch+1}/{num_epochs} - Training loss: {running_loss / len(train_loader):.4f}\")\n",
    "\n",
    "    # Evaluation phase\n",
    "    model.eval()\n",
    "    val_targets = []\n",
    "    val_outputs = []\n",
    "    with torch.no_grad():\n",
    "        for batch in val_loader:\n",
    "            data, target = batch\n",
    "            data = data.to(device)\n",
    "            target = target.to(device).float().view(-1)\n",
    "            output = model(data)\n",
    "            val_outputs.extend(output.view(-1).cpu().numpy())\n",
    "            val_targets.extend(target.cpu().numpy())\n",
    "\n",
    "    # Calculate AUC for the current epoch\n",
    "    auc = roc_auc_score(val_targets, val_outputs)\n",
    "    print(f\"Epoch {epoch+1}/{num_epochs} - Validation AUC: {auc:.4f}\")\n",
    "\n",
    "    # Save best model based on AUC\n",
    "    if auc > best_auc:\n",
    "        best_auc = auc\n",
    "        best_model_state = model.state_dict()\n",
    "        print(f\"Best model updated with AUC: {best_auc:.4f}\")\n"
   ]
  },
  {
   "cell_type": "code",
   "execution_count": null,
   "metadata": {
    "id": "wb4rRFM3vJkz"
   },
   "outputs": [],
   "source": [
    "\n",
    "# Save the best model state to a file\n",
    "if best_model_state is not None:\n",
    "    torch.save(best_model_state, './best_resnet_finetune.pth')\n",
    "    print(f\"Best model saved with AUC: {best_auc:.4f}\")\n",
    "\n",
    "print(\"Training completed successfully.\")\n"
   ]
  }
 ],
 "metadata": {
  "colab": {
   "provenance": []
  },
  "kernelspec": {
   "display_name": "Python 3 (ipykernel)",
   "language": "python",
   "name": "python3"
  },
  "language_info": {
   "codemirror_mode": {
    "name": "ipython",
    "version": 3
   },
   "file_extension": ".py",
   "mimetype": "text/x-python",
   "name": "python",
   "nbconvert_exporter": "python",
   "pygments_lexer": "ipython3",
   "version": "3.11.5"
  }
 },
 "nbformat": 4,
 "nbformat_minor": 4
}
